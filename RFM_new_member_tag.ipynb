{
 "cells": [
  {
   "cell_type": "markdown",
   "metadata": {},
   "source": [
    "# import"
   ]
  },
  {
   "cell_type": "code",
   "execution_count": 1,
   "metadata": {
    "collapsed": true
   },
   "outputs": [],
   "source": [
    "import pandas as pd\n",
    "from pandas import ExcelWriter\n",
    "from pandas import ExcelFile\n",
    "import datetime\n",
    "import matplotlib.pyplot as plt\n",
    "import seaborn as sns\n",
    "import numpy as np\n",
    "color = sns.color_palette()"
   ]
  },
  {
   "cell_type": "markdown",
   "metadata": {},
   "source": [
    "# aggregate"
   ]
  },
  {
   "cell_type": "code",
   "execution_count": 211,
   "metadata": {
    "collapsed": true
   },
   "outputs": [],
   "source": [
    "#aggregate: spending加總\n",
    "\n",
    "def aggr_rfm(df):\n",
    "    grouped = df.groupby(\n",
    "        [  \n",
    "          'user_main'\n",
    "           \n",
    "        ]\n",
    "    ).agg({\n",
    "           'spending':'sum'\n",
    "           ,'quantity':'sum'\n",
    "           ,'id':'nunique'\n",
    "           ,'date':['max','min']\n",
    "    })\n",
    "    df = grouped.reset_index()\n",
    "    #reset_index()可將group by結果變成新dataframe\n",
    "    #df.columns =['user_main', 'product_category', 'spending', 'quantity','id', 'date_max', 'date_min'] 可分保修\n",
    "    df.columns =['user_main', 'spending', 'quantity','id', 'date_max', 'date_min'] \n",
    "    return df"
   ]
  },
  {
   "cell_type": "markdown",
   "metadata": {},
   "source": [
    "# create frequency tag"
   ]
  },
  {
   "cell_type": "code",
   "execution_count": 212,
   "metadata": {
    "collapsed": true
   },
   "outputs": [],
   "source": [
    "def rfm_f_tag(df):\n",
    "    \n",
    "    df['freq_tag']=df2['id'].apply(lambda x: '1' if x ==1  else '2')\n",
    "    \n",
    "    return df"
   ]
  },
  {
   "cell_type": "markdown",
   "metadata": {},
   "source": [
    "# create monetary tag"
   ]
  },
  {
   "cell_type": "code",
   "execution_count": 213,
   "metadata": {
    "collapsed": true
   },
   "outputs": [],
   "source": [
    "def rfm_m_tag(df):\n",
    "\n",
    "    df['money_tag']=df['spending'].apply(\n",
    "        lambda x: '3' if x >=2000   \n",
    "        else '2' if x>=1000  \n",
    "        else '1')\n",
    "    \n",
    "    return df"
   ]
  },
  {
   "cell_type": "markdown",
   "metadata": {},
   "source": [
    "# create recency tag"
   ]
  },
  {
   "cell_type": "code",
   "execution_count": 214,
   "metadata": {
    "collapsed": true
   },
   "outputs": [],
   "source": [
    "def rfm_r_tag(df):\n",
    "    \n",
    "    df['recency'] = (df['recency']/np.timedelta64(1, 'D')).astype(int)\n",
    "    df['recency_tag']=df['recency'].apply(\n",
    "        lambda x: '1' if x >=360  \n",
    "        else '2' if x>=180 \n",
    "        else '3'if x>=90\n",
    "        else '4')\n",
    "    return df"
   ]
  },
  {
   "cell_type": "markdown",
   "metadata": {},
   "source": [
    "# create member tag"
   ]
  },
  {
   "cell_type": "code",
   "execution_count": 1,
   "metadata": {
    "collapsed": true
   },
   "outputs": [],
   "source": [
    "def member_tags(df,count_until_date):\n",
    "      # count_until_date =datetime.datetime.strptime(count_until_date, '%Y-%m-%d')\n",
    "    #新客 \n",
    "       if (df['date_min'].year ==count_until_date.year and df['date_min'].month==count_until_date.month) :\n",
    "        return '新客'\n",
    "    #忠誠客\n",
    "       if (df['id'] >=2 and df['recency'] <=90):\n",
    "        return '忠誠客'\n",
    "    #活躍客\n",
    "       if df['recency'] <= 90 :\n",
    "        return '活躍客'\n",
    "    #沉睡客\n",
    "       if (df['recency'] >90 and df['recency'] <=360):\n",
    "        return '沉睡客'\n",
    "    #流失客\n",
    "       if (df['recency'] >360):\n",
    "        return '流失客'\n",
    "    #其他  \n",
    "       return 'Other'"
   ]
  },
  {
   "cell_type": "markdown",
   "metadata": {},
   "source": [
    "# member tag count"
   ]
  },
  {
   "cell_type": "code",
   "execution_count": 216,
   "metadata": {
    "collapsed": true
   },
   "outputs": [],
   "source": [
    "def member_tag_count(df):\n",
    "    member_tag_count=df.groupby(['member_tags','date']).agg({'user_main':'nunique'})\n",
    "    member_tag_count.reset_index(inplace=True)\n",
    "    return member_tag_count"
   ]
  },
  {
   "cell_type": "markdown",
   "metadata": {},
   "source": [
    "# last day of month "
   ]
  },
  {
   "cell_type": "code",
   "execution_count": 246,
   "metadata": {
    "collapsed": true
   },
   "outputs": [],
   "source": [
    "def last_day_of_month(date):\n",
    "    \n",
    "    date= datetime.datetime.strptime(date, '%Y-%m-%d')\n",
    "    if date.month == 12:\n",
    "        return date.replace(day=31)\n",
    "    \n",
    "    return datetime.datetime.strftime(date.replace(month=date.month+1, day=1) - datetime.timedelta(days=1),'%Y-%m-%d')"
   ]
  },
  {
   "cell_type": "markdown",
   "metadata": {},
   "source": [
    "# new return tag"
   ]
  },
  {
   "cell_type": "code",
   "execution_count": null,
   "metadata": {
    "collapsed": true
   },
   "outputs": [],
   "source": [
    "def new_return_tags(df):\n",
    "      # count_until_date =datetime.datetime.strptime(count_until_date, '%Y-%m-%d')\n",
    "    #新客 \n",
    "       if (df['date_min'].year ==df['date'].year and df['date_min'].month==df['date'].month) :\n",
    "        return '新客'\n",
    "    #回購客  \n",
    "       return '回購客'"
   ]
  },
  {
   "cell_type": "code",
   "execution_count": 247,
   "metadata": {},
   "outputs": [
    {
     "data": {
      "text/plain": [
       "datetime.datetime(2018, 3, 31, 0, 0)"
      ]
     },
     "execution_count": 247,
     "metadata": {},
     "output_type": "execute_result"
    }
   ],
   "source": [
    "last_day_of_month('2018-03-01')"
   ]
  },
  {
   "cell_type": "markdown",
   "metadata": {},
   "source": [
    "# main : calculate tags for each month"
   ]
  },
  {
   "cell_type": "code",
   "execution_count": 306,
   "metadata": {
    "collapsed": true
   },
   "outputs": [],
   "source": [
    "def main(count_until_date,date_back_month): \n",
    "    \n",
    "    #讀進最新資料    \n",
    "    data = pd.read_excel('aimee_sale_08.xlsx', sheetname='Sheet 1')\n",
    "    \n",
    "    #轉換時間格式\n",
    "    data['date'] =pd.to_datetime(data['date'])    \n",
    "    count_until_date= datetime.datetime.strptime(count_until_date, '%Y-%m-%d')\n",
    "    year = count_until_date.year\n",
    "    month = count_until_date.month\n",
    "    \n",
    "    #create a empty dataframe\n",
    "    df3 = pd.DataFrame()\n",
    "\n",
    "    for i in range(0,date_back_month):\n",
    "\n",
    "        this_date =datetime.date(year,month-i,1)\n",
    "        \n",
    "        #每月最後一天\n",
    "        last_date = last_day_of_month(datetime.datetime.strftime(this_date,'%Y-%m-%d'))\n",
    "       \n",
    "        #資料篩選:該月最後一天\n",
    "        row = data.loc[data['date'] <= last_date].copy()  \n",
    "\n",
    "        #新增單價: quantity x price\n",
    "        row['spending'] = row['quantity']*row['price']\n",
    "        df2 = aggr_rfm(row)\n",
    "\n",
    "        #recency: 距離今天最後一次消費\n",
    "        df2['recency'] =last_date - pd.to_datetime(df2['date_max'])\n",
    "        \n",
    "        # member_tags\n",
    "        df2 = rfm_r_tag(df2)\n",
    "        df2 = rfm_f_tag(df2)\n",
    "        df2 = rfm_m_tag(df2)\n",
    "        df2['rfm_tag'] =df2['recency_tag']+df2['freq_tag']+df2['money_tag']\n",
    "        df2['member_tags'] = df2.apply (lambda row: member_tags(row, last_date),axis=1)\n",
    "        df2['date']= last_date\n",
    "\n",
    "        df3 = df3.append(member_tag_count(df2))\n",
    "    \n",
    "    print(df3)\n",
    "    return df3"
   ]
  },
  {
   "cell_type": "code",
   "execution_count": 307,
   "metadata": {},
   "outputs": [
    {
     "name": "stdout",
     "output_type": "stream",
     "text": [
      "  member_tags       date  user_main\n",
      "0         忠誠客 2018-07-31        100\n",
      "1          新客 2018-07-31        201\n",
      "2         沉睡客 2018-07-31       1620\n",
      "3         活躍客 2018-07-31        325\n",
      "4         流失客 2018-07-31        423\n",
      "0         忠誠客 2018-06-30         74\n",
      "1          新客 2018-06-30        208\n",
      "2         沉睡客 2018-06-30       1564\n",
      "3         活躍客 2018-06-30        259\n",
      "4         流失客 2018-06-30        363\n",
      "0         忠誠客 2018-05-31         75\n",
      "1          新客 2018-05-31        150\n",
      "2         沉睡客 2018-05-31       1690\n",
      "3         活躍客 2018-05-31        227\n",
      "4         流失客 2018-05-31        118\n",
      "0         忠誠客 2018-04-30         48\n",
      "1          新客 2018-04-30        126\n",
      "2         沉睡客 2018-04-30       1642\n",
      "3         活躍客 2018-04-30        259\n",
      "4         流失客 2018-04-30         35\n"
     ]
    }
   ],
   "source": [
    "df = main('2018-07-31',4)"
   ]
  },
  {
   "cell_type": "code",
   "execution_count": 308,
   "metadata": {
    "collapsed": true,
    "scrolled": true
   },
   "outputs": [],
   "source": [
    "#df\n",
    "df.to_csv(\"monthly_rmf_data.csv\",index=False)"
   ]
  },
  {
   "cell_type": "code",
   "execution_count": 90,
   "metadata": {},
   "outputs": [
    {
     "data": {
      "text/html": [
       "<div>\n",
       "<style>\n",
       "    .dataframe thead tr:only-child th {\n",
       "        text-align: right;\n",
       "    }\n",
       "\n",
       "    .dataframe thead th {\n",
       "        text-align: left;\n",
       "    }\n",
       "\n",
       "    .dataframe tbody tr th {\n",
       "        vertical-align: top;\n",
       "    }\n",
       "</style>\n",
       "<table border=\"1\" class=\"dataframe\">\n",
       "  <thead>\n",
       "    <tr style=\"text-align: right;\">\n",
       "      <th></th>\n",
       "      <th>month</th>\n",
       "      <th>id</th>\n",
       "      <th>user_main</th>\n",
       "    </tr>\n",
       "  </thead>\n",
       "  <tbody>\n",
       "    <tr>\n",
       "      <th>0</th>\n",
       "      <td>2017-03</td>\n",
       "      <td>56</td>\n",
       "      <td>26</td>\n",
       "    </tr>\n",
       "    <tr>\n",
       "      <th>1</th>\n",
       "      <td>2017-04</td>\n",
       "      <td>17</td>\n",
       "      <td>15</td>\n",
       "    </tr>\n",
       "    <tr>\n",
       "      <th>2</th>\n",
       "      <td>2017-05</td>\n",
       "      <td>87</td>\n",
       "      <td>86</td>\n",
       "    </tr>\n",
       "    <tr>\n",
       "      <th>3</th>\n",
       "      <td>2017-06</td>\n",
       "      <td>248</td>\n",
       "      <td>246</td>\n",
       "    </tr>\n",
       "    <tr>\n",
       "      <th>4</th>\n",
       "      <td>2017-07</td>\n",
       "      <td>75</td>\n",
       "      <td>72</td>\n",
       "    </tr>\n",
       "    <tr>\n",
       "      <th>5</th>\n",
       "      <td>2017-08</td>\n",
       "      <td>149</td>\n",
       "      <td>146</td>\n",
       "    </tr>\n",
       "    <tr>\n",
       "      <th>6</th>\n",
       "      <td>2017-09</td>\n",
       "      <td>118</td>\n",
       "      <td>116</td>\n",
       "    </tr>\n",
       "    <tr>\n",
       "      <th>7</th>\n",
       "      <td>2017-10</td>\n",
       "      <td>232</td>\n",
       "      <td>231</td>\n",
       "    </tr>\n",
       "    <tr>\n",
       "      <th>8</th>\n",
       "      <td>2017-11</td>\n",
       "      <td>308</td>\n",
       "      <td>290</td>\n",
       "    </tr>\n",
       "    <tr>\n",
       "      <th>9</th>\n",
       "      <td>2017-12</td>\n",
       "      <td>348</td>\n",
       "      <td>316</td>\n",
       "    </tr>\n",
       "    <tr>\n",
       "      <th>10</th>\n",
       "      <td>2018-01</td>\n",
       "      <td>274</td>\n",
       "      <td>248</td>\n",
       "    </tr>\n",
       "    <tr>\n",
       "      <th>11</th>\n",
       "      <td>2018-02</td>\n",
       "      <td>150</td>\n",
       "      <td>146</td>\n",
       "    </tr>\n",
       "    <tr>\n",
       "      <th>12</th>\n",
       "      <td>2018-03</td>\n",
       "      <td>169</td>\n",
       "      <td>142</td>\n",
       "    </tr>\n",
       "    <tr>\n",
       "      <th>13</th>\n",
       "      <td>2018-04</td>\n",
       "      <td>143</td>\n",
       "      <td>138</td>\n",
       "    </tr>\n",
       "    <tr>\n",
       "      <th>14</th>\n",
       "      <td>2018-05</td>\n",
       "      <td>206</td>\n",
       "      <td>192</td>\n",
       "    </tr>\n",
       "    <tr>\n",
       "      <th>15</th>\n",
       "      <td>2018-06</td>\n",
       "      <td>243</td>\n",
       "      <td>230</td>\n",
       "    </tr>\n",
       "    <tr>\n",
       "      <th>16</th>\n",
       "      <td>2018-07</td>\n",
       "      <td>254</td>\n",
       "      <td>237</td>\n",
       "    </tr>\n",
       "    <tr>\n",
       "      <th>17</th>\n",
       "      <td>2018-08</td>\n",
       "      <td>212</td>\n",
       "      <td>204</td>\n",
       "    </tr>\n",
       "  </tbody>\n",
       "</table>\n",
       "</div>"
      ],
      "text/plain": [
       "      month   id  user_main\n",
       "0   2017-03   56         26\n",
       "1   2017-04   17         15\n",
       "2   2017-05   87         86\n",
       "3   2017-06  248        246\n",
       "4   2017-07   75         72\n",
       "5   2017-08  149        146\n",
       "6   2017-09  118        116\n",
       "7   2017-10  232        231\n",
       "8   2017-11  308        290\n",
       "9   2017-12  348        316\n",
       "10  2018-01  274        248\n",
       "11  2018-02  150        146\n",
       "12  2018-03  169        142\n",
       "13  2018-04  143        138\n",
       "14  2018-05  206        192\n",
       "15  2018-06  243        230\n",
       "16  2018-07  254        237\n",
       "17  2018-08  212        204"
      ]
     },
     "execution_count": 90,
     "metadata": {},
     "output_type": "execute_result"
    }
   ],
   "source": [
    "\n",
    "df = pd.read_excel('aimee_sale_08.xlsx', sheetname='Sheet 1')\n",
    "df['month'] = df['date'].astype(str).str[0:7]\n",
    "\n",
    "grouped = df.groupby(\n",
    "    [ \n",
    "        'month'\n",
    "\n",
    "    ]\n",
    ").agg({\n",
    "      \n",
    "       'id':'nunique'\n",
    "       ,'user_main':'nunique'\n",
    "})\n",
    "\n",
    "grouped.reset_index()"
   ]
  }
 ],
 "metadata": {
  "kernelspec": {
   "display_name": "Python 3",
   "language": "python",
   "name": "python3"
  },
  "language_info": {
   "codemirror_mode": {
    "name": "ipython",
    "version": 3
   },
   "file_extension": ".py",
   "mimetype": "text/x-python",
   "name": "python",
   "nbconvert_exporter": "python",
   "pygments_lexer": "ipython3",
   "version": "3.6.2"
  }
 },
 "nbformat": 4,
 "nbformat_minor": 2
}
